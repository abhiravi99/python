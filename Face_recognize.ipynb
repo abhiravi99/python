{
 "cells": [
  {
   "cell_type": "code",
   "execution_count": 1,
   "metadata": {},
   "outputs": [
    {
     "ename": "SyntaxError",
     "evalue": "invalid syntax (<ipython-input-1-6e5a66bc02b3>, line 24)",
     "output_type": "error",
     "traceback": [
      "\u001b[1;36m  File \u001b[1;32m\"<ipython-input-1-6e5a66bc02b3>\"\u001b[1;36m, line \u001b[1;32m24\u001b[0m\n\u001b[1;33m    cv2.imwrite(\"E:/face_detection/dataset/user.\"+str(id)+\".\"+(sampleNum)+\".jpg\",gray(y:y+h,x:x+w))\u001b[0m\n\u001b[1;37m                                                                                       ^\u001b[0m\n\u001b[1;31mSyntaxError\u001b[0m\u001b[1;31m:\u001b[0m invalid syntax\n"
     ]
    }
   ],
   "source": [
    "import cv2\n",
    "import sys\n",
    "\n",
    "cascPath = \"C:/Users/ABHISHEK RAVI/AppData/Local/Programs/Python/Python36-32/Lib/site-packages/cv2/data/haarcascade_frontalface_default.xml\"\n",
    "\n",
    "faceCascade = cv2.CascadeClassifier(cascPath)\n",
    "\n",
    "video_capture = cv2.VideoCapture(0)\n",
    "id=raw_input('enter user id')\n",
    "sampleNum=0;\n",
    "\n",
    "while (True):\n",
    "    # Capture frame-by-frame\n",
    "    ret, frame = video_capture.read()\n",
    "\n",
    "    gray = cv2.cvtColor(frame, cv2.COLOR_BGR2GRAY)\n",
    "\n",
    "    faces = faceCascade.detectMultiScale(gray,scaleFactor=1.1,minNeighbors=5,minSize=(30, 30),\n",
    "        flags=cv2.CASCADE_SCALE_IMAGE)\n",
    "\n",
    "    # Draw a rectangle around the faces\n",
    "    for (x, y, w, h) in faces:\n",
    "        sampleNum=sampleNum+1;\n",
    "        cv2.imwrite(\"E:/face_detection/dataset/user.\"+str(id)+\".\"+(sampleNum)+\".jpg\",gray(y:y+h,x:x+w))\n",
    "        cv2.rectangle(frame, (x, y), (x+w, y+h), (0, 255, 0), 2)\n",
    "        cv2.waitKey(100); \n",
    "    # Display the resulting frame\n",
    "    cv2.imshow('Video', frame)\n",
    "\n",
    "    cv2.waitKey(1);\n",
    "    if(sampleNum>20):\n",
    "        break\n",
    "\n",
    "# When everything is done, release the capture\n",
    "video_capture.release()\n",
    "cv2.destroyAllWindows()"
   ]
  },
  {
   "cell_type": "code",
   "execution_count": 11,
   "metadata": {},
   "outputs": [
    {
     "name": "stdout",
     "output_type": "stream",
     "text": [
      "Enter your id :5\n"
     ]
    }
   ],
   "source": [
    "import cv2\n",
    "import numpy as np\n",
    "cam = cv2.VideoCapture(0)\n",
    "detector=cv2.CascadeClassifier('C:/Users/ABHISHEK RAVI/AppData/Local/Programs/Python/Python36-32/Lib/site-packages/cv2/data/haarcascade_frontalface_default.xml')\n",
    "\n",
    "Id=input('Enter your id :')\n",
    "sampleNum=0\n",
    "while(True):\n",
    "    ret, img = cam.read()\n",
    "    gray = cv2.cvtColor(img, cv2.COLOR_BGRA2GRAY)\n",
    "    faces = detector.detectMultiScale(gray, 1.3, 5)\n",
    "    for (x,y,w,h) in faces:\n",
    "        cv2.rectangle(img,(x,y),(x+w,y+h),(255,0,0),2)\n",
    "        \n",
    "        #incrementing sample number \n",
    "        sampleNum=sampleNum+1\n",
    "        #saving the captured face in the dataset folder\n",
    "        cv2.imwrite(\"E:/face_detection/dataset/user.\"+Id +'.'+ str(sampleNum) + \".jpg\", gray[y:y+h,x:x+w])\n",
    "\n",
    "        cv2.imshow('frame',img)\n",
    "    #wait for 100 miliseconds \n",
    "    if cv2.waitKey(100) & 0xFF == ord('q'):\n",
    "        break\n",
    "    # break if the sample number is morethan 20\n",
    "    elif sampleNum>20:\n",
    "        break\n",
    "cam.release()\n",
    "cv2.destroyAllWindows()"
   ]
  },
  {
   "cell_type": "code",
   "execution_count": 12,
   "metadata": {},
   "outputs": [],
   "source": [
    "# Trainer.......\n",
    "import os\n",
    "import cv2\n",
    "import numpy as np\n",
    "from PIL import Image\n",
    "\n",
    "recognizer=cv2.face.LBPHFaceRecognizer_create()\n",
    "path='E:/face_detection/dataset'\n",
    "\n",
    "def getImagesWithID(path):\n",
    "    imagePaths=[os.path.join(path,f) for f in os.listdir(path)]\n",
    "    faces=[]\n",
    "    IDs=[]\n",
    "    for imagePath in imagePaths:\n",
    "        faceImg=Image.open(imagePath).convert('L')\n",
    "        faceNp=np.array(faceImg,'uint8')\n",
    "        ID=int(os.path.split(imagePath)[-1].split('.')[1])\n",
    "        faces.append(faceNp)\n",
    "        IDs.append(ID)\n",
    "        cv2.imshow(\"training\",faceNp)\n",
    "        cv2.waitKey(100) # for 10 milliseconds wait......\n",
    "    return np.array(IDs), faces\n",
    "\n",
    "Ids, faces=getImagesWithID(path)\n",
    "recognizer.train(faces,np.array(Ids))\n",
    "recognizer.save('E:/face_detection/recognizer/trainningData.yml')\n",
    "cv2.destroyAllWindows()\n"
   ]
  },
  {
   "cell_type": "code",
   "execution_count": 13,
   "metadata": {},
   "outputs": [],
   "source": [
    "#detection\n",
    "import cv2\n",
    "import numpy as np\n",
    "\n",
    "faceDetect = cv2.CascadeClassifier(\"C:/Users/ABHISHEK RAVI/AppData/Local/Programs/Python/Python36-32/Lib/site-packages/cv2/data/haarcascade_frontalface_default.xml\")\n",
    "cam=cv2.VideoCapture(0)\n",
    "rec=cv2.face.LBPHFaceRecognizer_create()\n",
    "rec.read(\"E:/face_detection/recognizer/trainningData.yml\")\n",
    "id=0\n",
    "font=cv2.FONT_HERSHEY_COMPLEX_SMALL\n",
    "\n",
    "while(True):\n",
    "    \n",
    "    ret,img=cam.read()\n",
    "    gray=cv2.cvtColor(img, cv2.COLOR_BGRA2GRAY)\n",
    "    faces=faceDetect.detectMultiScale(gray, 1.3, 5)\n",
    "    for(x,y,w,h) in faces:\n",
    "        cv2.rectangle(img, (x, y), (x+w, y+h), (0, 0, 255), 2)\n",
    "        id,conf=rec.predict(gray[y:y+h,x:x+w])\n",
    "        if (id==1):\n",
    "            id=\"abhishek\"\n",
    "        elif (id==3):\n",
    "            id=\"ravi\"\n",
    "        elif(id==5):\n",
    "            id=\"bhuvi\"\n",
    "        cv2.putText(img,str(id),(x,y+h),font,3,255)\n",
    "    cv2.imshow(\"Face\", img)\n",
    "    if (cv2.waitKey(1) & 0xFF == ord('q')):\n",
    "        break;\n",
    "\n",
    "cam.release()\n",
    "cv2.destroyAllWindows()\n",
    "\n"
   ]
  },
  {
   "cell_type": "code",
   "execution_count": null,
   "metadata": {},
   "outputs": [],
   "source": []
  }
 ],
 "metadata": {
  "kernelspec": {
   "display_name": "Python 3",
   "language": "python",
   "name": "python3"
  },
  "language_info": {
   "codemirror_mode": {
    "name": "ipython",
    "version": 3
   },
   "file_extension": ".py",
   "mimetype": "text/x-python",
   "name": "python",
   "nbconvert_exporter": "python",
   "pygments_lexer": "ipython3",
   "version": "3.6.5"
  }
 },
 "nbformat": 4,
 "nbformat_minor": 2
}
